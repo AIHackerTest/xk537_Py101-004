{
 "cells": [
  {
   "cell_type": "markdown",
   "metadata": {},
   "source": [
    "# 查天气个人教程（ch1 ）"
   ]
  },
  {
   "cell_type": "markdown",
   "metadata": {},
   "source": [
    "看完任务的时候是完全没有思路。但是看了任务提示后，就基本会拆解任务了。"
   ]
  },
  {
   "cell_type": "markdown",
   "metadata": {},
   "source": [
    ">1. 读取weather_info.txt 文件中的数据\n",
    "\n",
    "    这一步不难，之前的练习中已经熟悉过文件夹的打开、读、写等操作方法（f.open, f.read,f.write）\n",
    "    \n",
    "    但是此处有几个需要注意的点:\n",
    "    \n",
    "     * f.read() f.readline() 和 f.readlines()的区别\n",
    "     * 关闭文件的问题\n",
    "     * 用with open的好处\n",
    "   \n",
    "   **以上几点通过阅读 [python文件读写文档](https://docs.python.org/3.6/tutorial/inputoutput.html#reading-and-writing-files)      可以很好的掌握**\n",
    "   \n",
    ">2. 由于后面需要匹配用户输入的城市，而且城市需要有对应的天气，所以需要将文件中的数据以字典形式存储\n",
    "  \n",
    "    此处需要用到之前练习过的string的一些操作方法，比如s.split()。 同时会发现还需要其他处理字符串的方法，于是去读文档。\n",
    "    查方法查多了后，会发现python中的方法都是在BIF这一章节。通过string这个关键词就可以找到字符串的操作方法，寻找能解决自己问题的方法，比如\n",
    "    试用s.strip()去掉结尾处的\\n。\n",
    "    \n",
    "    **通过此练习可以全面的把string的方法熟悉一遍**\n",
    "    \n",
    "    之前的练习中已经了解过字典，这次又重新将官方文档通读一遍，理解的更深刻了。熟练使用key和value来构建字典。\n",
    "    \n",
    ">3. 使用循环和判断来与用户进行持续交互\n",
    "    \n",
    "    * 两种循环方式的复习和使用：while循环 、 for循环\n",
    "    * if 判断\n",
    "    \n",
    "    **此部分容易写，但是循环上易出错。**\n",
    "    \n",
    "> 4. 如何保存历史查询记录\n",
    "    \n",
    "     可以通过构建list或者dic来实现\n",
    " "
   ]
  }
 ],
 "metadata": {
  "kernelspec": {
   "display_name": "Python 3",
   "language": "python",
   "name": "python3"
  },
  "language_info": {
   "codemirror_mode": {
    "name": "ipython",
    "version": 3
   },
   "file_extension": ".py",
   "mimetype": "text/x-python",
   "name": "python",
   "nbconvert_exporter": "python",
   "pygments_lexer": "ipython3",
   "version": "3.6.1"
  }
 },
 "nbformat": 4,
 "nbformat_minor": 2
}
